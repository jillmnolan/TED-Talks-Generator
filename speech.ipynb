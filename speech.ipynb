{
 "cells": [
  {
   "cell_type": "code",
   "execution_count": null,
   "metadata": {},
   "outputs": [],
   "source": [
    "\"\"\"Code to generate a TED Talk\"\"\"\n",
    "\n",
    "# Author: Sameera Lanka\n",
    "# Website: www.sameera-lanka.com\n",
    "# Copyright © TED Conferences, LLC\n",
    "\n",
    "from trainTED import network, ip_dim, hi_dim, num_layers, char2oh, vocab \n",
    "import torch\n",
    "from torch.autograd import Variable\n",
    "from sys import stdout\n",
    "    \n",
    "def encode(letter):\n",
    "    \"\"\"One-hot encoding of letter\"\"\"\n",
    "    return char2oh[letter]\n",
    "\n",
    "def decode(tensor):\n",
    "    \"\"\"Letter from one-hot encoding\"\"\"\n",
    "    index = tensor.view(-1).max(0)[1]\n",
    "    return vocab[index.data[0]]\n",
    "\n",
    "prompt = \"The next big invention \" #feed in a input prompt\n",
    "speech_len = 1000"
   ]
  },
  {
   "cell_type": "code",
   "execution_count": null,
   "metadata": {
    "scrolled": false
   },
   "outputs": [],
   "source": [
    "if __name__==\"__main__\":\n",
    "    \n",
    "    speaker = network(ip_dim, hi_dim, num_layers).cuda()\n",
    "    speaker.load_state_dict(torch.load('./winner.pth'))\n",
    "    speaker.batch_size = 1\n",
    "    speaker.reset()\n",
    "    \n",
    "    temperature = 0.55  \n",
    "    \n",
    "    for letter in prompt:\n",
    "        ip = Variable(encode(letter).view(1,1,-1), volatile=True).cuda() \n",
    "        output = decode(speaker(ip))\n",
    "        stdout.write(letter)\n",
    "    \n",
    "    for counter in range(speech_len):\n",
    "        ip = Variable(encode(output).view(1,1,-1), volatile=True).cuda()\n",
    "        output_dist = speaker(ip).data.view(-1).div(temperature).exp()\n",
    "        top_i = torch.multinomial(output_dist, 1)[0]\n",
    "        \n",
    "        output = vocab[top_i]\n",
    "        stdout.write(output)\n",
    "        \n",
    "    "
   ]
  }
 ],
 "metadata": {
  "kernelspec": {
   "display_name": "Python 2",
   "language": "python",
   "name": "python2"
  },
  "language_info": {
   "codemirror_mode": {
    "name": "ipython",
    "version": 2
   },
   "file_extension": ".py",
   "mimetype": "text/x-python",
   "name": "python",
   "nbconvert_exporter": "python",
   "pygments_lexer": "ipython2",
   "version": "2.7.14"
  }
 },
 "nbformat": 4,
 "nbformat_minor": 2
}
